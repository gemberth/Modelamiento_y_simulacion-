{
 "cells": [
  {
   "cell_type": "code",
   "execution_count": 10,
   "metadata": {},
   "outputs": [
    {
     "data": {
      "text/html": [
       "<div>\n",
       "<style scoped>\n",
       "    .dataframe tbody tr th:only-of-type {\n",
       "        vertical-align: middle;\n",
       "    }\n",
       "\n",
       "    .dataframe tbody tr th {\n",
       "        vertical-align: top;\n",
       "    }\n",
       "\n",
       "    .dataframe thead th {\n",
       "        text-align: right;\n",
       "    }\n",
       "</style>\n",
       "<table border=\"1\" class=\"dataframe\">\n",
       "  <thead>\n",
       "    <tr style=\"text-align: right;\">\n",
       "      <th></th>\n",
       "      <th>Día</th>\n",
       "      <th>Total</th>\n",
       "      <th>Día.1</th>\n",
       "      <th>Total.1</th>\n",
       "      <th>Día.2</th>\n",
       "      <th>Total.2</th>\n",
       "      <th>Día.3</th>\n",
       "      <th>Total.3</th>\n",
       "    </tr>\n",
       "  </thead>\n",
       "  <tbody>\n",
       "    <tr>\n",
       "      <th>0</th>\n",
       "      <td>1</td>\n",
       "      <td>93</td>\n",
       "      <td>11</td>\n",
       "      <td>93</td>\n",
       "      <td>21</td>\n",
       "      <td>96</td>\n",
       "      <td>31</td>\n",
       "      <td>94</td>\n",
       "    </tr>\n",
       "    <tr>\n",
       "      <th>1</th>\n",
       "      <td>2</td>\n",
       "      <td>94</td>\n",
       "      <td>12</td>\n",
       "      <td>91</td>\n",
       "      <td>22</td>\n",
       "      <td>98</td>\n",
       "      <td>32</td>\n",
       "      <td>94</td>\n",
       "    </tr>\n",
       "    <tr>\n",
       "      <th>2</th>\n",
       "      <td>3</td>\n",
       "      <td>100</td>\n",
       "      <td>13</td>\n",
       "      <td>96</td>\n",
       "      <td>23</td>\n",
       "      <td>94</td>\n",
       "      <td>33</td>\n",
       "      <td>99</td>\n",
       "    </tr>\n",
       "    <tr>\n",
       "      <th>3</th>\n",
       "      <td>4</td>\n",
       "      <td>100</td>\n",
       "      <td>14</td>\n",
       "      <td>96</td>\n",
       "      <td>24</td>\n",
       "      <td>92</td>\n",
       "      <td>34</td>\n",
       "      <td>93</td>\n",
       "    </tr>\n",
       "    <tr>\n",
       "      <th>4</th>\n",
       "      <td>5</td>\n",
       "      <td>93</td>\n",
       "      <td>15</td>\n",
       "      <td>90</td>\n",
       "      <td>25</td>\n",
       "      <td>97</td>\n",
       "      <td>35</td>\n",
       "      <td>96</td>\n",
       "    </tr>\n",
       "    <tr>\n",
       "      <th>5</th>\n",
       "      <td>6</td>\n",
       "      <td>90</td>\n",
       "      <td>16</td>\n",
       "      <td>99</td>\n",
       "      <td>26</td>\n",
       "      <td>91</td>\n",
       "      <td>36</td>\n",
       "      <td>94</td>\n",
       "    </tr>\n",
       "    <tr>\n",
       "      <th>6</th>\n",
       "      <td>7</td>\n",
       "      <td>96</td>\n",
       "      <td>17</td>\n",
       "      <td>100</td>\n",
       "      <td>27</td>\n",
       "      <td>92</td>\n",
       "      <td>37</td>\n",
       "      <td>97</td>\n",
       "    </tr>\n",
       "    <tr>\n",
       "      <th>7</th>\n",
       "      <td>8</td>\n",
       "      <td>92</td>\n",
       "      <td>18</td>\n",
       "      <td>91</td>\n",
       "      <td>28</td>\n",
       "      <td>99</td>\n",
       "      <td>38</td>\n",
       "      <td>91</td>\n",
       "    </tr>\n",
       "    <tr>\n",
       "      <th>8</th>\n",
       "      <td>9</td>\n",
       "      <td>93</td>\n",
       "      <td>19</td>\n",
       "      <td>93</td>\n",
       "      <td>29</td>\n",
       "      <td>92</td>\n",
       "      <td>39</td>\n",
       "      <td>93</td>\n",
       "    </tr>\n",
       "    <tr>\n",
       "      <th>9</th>\n",
       "      <td>10</td>\n",
       "      <td>99</td>\n",
       "      <td>20</td>\n",
       "      <td>98</td>\n",
       "      <td>30</td>\n",
       "      <td>97</td>\n",
       "      <td>40</td>\n",
       "      <td>100</td>\n",
       "    </tr>\n",
       "  </tbody>\n",
       "</table>\n",
       "</div>"
      ],
      "text/plain": [
       "   Día  Total  Día.1  Total.1  Día.2  Total.2  Día.3  Total.3\n",
       "0    1     93     11       93     21       96     31       94\n",
       "1    2     94     12       91     22       98     32       94\n",
       "2    3    100     13       96     23       94     33       99\n",
       "3    4    100     14       96     24       92     34       93\n",
       "4    5     93     15       90     25       97     35       96\n",
       "5    6     90     16       99     26       91     36       94\n",
       "6    7     96     17      100     27       92     37       97\n",
       "7    8     92     18       91     28       99     38       91\n",
       "8    9     93     19       93     29       92     39       93\n",
       "9   10     99     20       98     30       97     40      100"
      ]
     },
     "execution_count": 10,
     "metadata": {},
     "output_type": "execute_result"
    }
   ],
   "source": [
    "#      UNIVERSIDAD LAICA ELOY ALFARO DE MANABI \n",
    "\n",
    "#         FACULTAD DE CIENCIAS INFORMATICAS \n",
    "\n",
    "#            DOCENTE : ING JORGE MOYA\n",
    "\n",
    "#     ESTUDIANTE: JONATHAN RUBEN BERMEO HOLGUIN \n",
    "\n",
    "#              TECNICAS DE SIMULACION \n",
    "import pandas as pd \n",
    "import matplotlib.pyplot as plt \n",
    "import numpy as np \n",
    "datos = pd.read_clipboard() \n",
    "datos\n",
    "\n",
    "#Una organización del sistema financiero desea mejorar sus procesos y, dentro de ellos, el de\n",
    "#gestión y atención de clientes en las ventanillas de servicios. Considerando la problemática\n",
    "#existente, se desea implementar un sistema de atención que optimice los procesos de atención\n",
    "#en ventanilla. Los datos del total de clientes que llegaron al sistema, durante los últimos 40 días\n",
    "#se muestran a continuación."
   ]
  },
  {
   "cell_type": "code",
   "execution_count": 16,
   "metadata": {},
   "outputs": [
    {
     "data": {
      "image/png": "[encoded data removed]",
      "text/plain": [
       "<Figure size 720x360 with 1 Axes>"
      ]
     },
     "metadata": {
      "needs_background": "light"
     },
     "output_type": "display_data"
    }
   ],
   "source": [
    "x=datos[\"Total\"]\n",
    "plt.figure(figsize=(10,5))\n",
    "plt.hist(x,bins=8,color='blue')\n",
    "plt.axvline(x.mean(),color='red',label='Media')\n",
    "plt.axvline(x.median(),color='yellow',label='Mediana')\n",
    "plt.axvline(x.mode()[0],color='green',label='Moda')\n",
    "plt.xlabel('Total de clientes de dia 0')\n",
    "plt.ylabel('Frecuencia')\n",
    "plt.legend()\n",
    "plt.show()"
   ]
  },
  {
   "cell_type": "code",
   "execution_count": 17,
   "metadata": {},
   "outputs": [
    {
     "data": {
      "image/png": "[encoded data removed]",
      "text/plain": [
       "<Figure size 720x360 with 1 Axes>"
      ]
     },
     "metadata": {
      "needs_background": "light"
     },
     "output_type": "display_data"
    }
   ],
   "source": [
    "x=datos[\"Total.1\"]\n",
    "plt.figure(figsize=(10,5))\n",
    "plt.hist(x,bins=None,color='grey')\n",
    "plt.axvline(x.mean(),color='red',label='Media')\n",
    "plt.axvline(x.median(),color='yellow',label='Mediana')\n",
    "plt.axvline(x.mode()[0],color='green',label='Moda')\n",
    "plt.xlabel('Total de clientes dia 1 ')\n",
    "plt.ylabel('Frecuencia')\n",
    "plt.legend()\n",
    "plt.show()"
   ]
  },
  {
   "cell_type": "code",
   "execution_count": 21,
   "metadata": {},
   "outputs": [
    {
     "data": {
      "image/png": "[encoded data removed]",
      "text/plain": [
       "<Figure size 720x360 with 1 Axes>"
      ]
     },
     "metadata": {
      "needs_background": "light"
     },
     "output_type": "display_data"
    }
   ],
   "source": [
    "x=datos[\"Total.2\"]\n",
    "plt.figure(figsize=(10,5))\n",
    "plt.hist(x,bins=8,color='blue')\n",
    "plt.axvline(x.mean(),color='red',label='Media')\n",
    "plt.axvline(x.median(),color='yellow',label='Mediana')\n",
    "plt.axvline(x.mode()[0],color='green',label='Moda')\n",
    "plt.xlabel('Total de clientes de dia 2')\n",
    "plt.ylabel('Frecuencia')\n",
    "plt.legend()\n",
    "plt.show()"
   ]
  },
  {
   "cell_type": "code",
   "execution_count": 22,
   "metadata": {},
   "outputs": [
    {
     "data": {
      "image/png": "[encoded data removed]",
      "text/plain": [
       "<Figure size 720x360 with 1 Axes>"
      ]
     },
     "metadata": {
      "needs_background": "light"
     },
     "output_type": "display_data"
    }
   ],
   "source": [
    "x=datos[\"Total.3\"]\n",
    "plt.figure(figsize=(10,5))\n",
    "plt.hist(x,bins=None,color='grey')\n",
    "plt.axvline(x.mean(),color='red',label='Media')\n",
    "plt.axvline(x.median(),color='yellow',label='Mediana')\n",
    "plt.axvline(x.mode()[0],color='green',label='Moda')\n",
    "plt.xlabel('Total de clientes dia 3 ')\n",
    "plt.ylabel('Frecuencia')\n",
    "plt.legend()\n",
    "plt.show()"
   ]
  },
  {
   "cell_type": "code",
   "execution_count": 24,
   "metadata": {},
   "outputs": [
    {
     "name": "stdout",
     "output_type": "stream",
     "text": [
      "Media:\n",
      "la Media  Total del dia 0 :  95.0\n",
      "la Media   Total del dia 1 :  94.7\n",
      "la Media   Total del dia 2:  94.8\n",
      "la Media   Total del dia 3:  95.1\n",
      "DIRECTAMENTE DEL DATAFRAME \n",
      "\n"
     ]
    },
    {
     "data": {
      "text/plain": [
       "Día         5.5\n",
       "Total      95.0\n",
       "Día.1      15.5\n",
       "Total.1    94.7\n",
       "Día.2      25.5\n",
       "Total.2    94.8\n",
       "Día.3      35.5\n",
       "Total.3    95.1\n",
       "dtype: float64"
      ]
     },
     "execution_count": 24,
     "metadata": {},
     "output_type": "execute_result"
    }
   ],
   "source": [
    "print(\"Media:\", )\n",
    "\n",
    "t1 = datos[\"Total\"].mean()\n",
    "t2 = datos[\"Total.1\"].mean()\n",
    "t3 = datos[\"Total.2\"].mean()\n",
    "t4 = datos[\"Total.3\"].mean()\n",
    "\n",
    "print( \"la Media  Total del dia 0 : \", t1)\n",
    "print( \"la Media   Total del dia 1 : \", t2)\n",
    "print( \"la Media   Total del dia 2: \", t3)\n",
    "print( \"la Media   Total del dia 3: \", t4)\n",
    "print(\"DIRECTAMENTE DEL DATAFRAME \")\n",
    "print()\n",
    "datos.mean()"
   ]
  },
  {
   "cell_type": "code",
   "execution_count": 27,
   "metadata": {},
   "outputs": [
    {
     "name": "stdout",
     "output_type": "stream",
     "text": [
      "Mediana:\n",
      "la Mediana  Total del dia 0 :  93.5\n",
      "la Mediana   Total del dia 1 :  94.5\n",
      "la Mediana   Total del dia 2:  95.0\n",
      "la Mediana   Total del dia 3:  94.0\n",
      "DIRECTAMENTE DEL DATAFRAME \n",
      "\n"
     ]
    },
    {
     "data": {
      "text/plain": [
       "Día         5.5\n",
       "Total      93.5\n",
       "Día.1      15.5\n",
       "Total.1    94.5\n",
       "Día.2      25.5\n",
       "Total.2    95.0\n",
       "Día.3      35.5\n",
       "Total.3    94.0\n",
       "dtype: float64"
      ]
     },
     "execution_count": 27,
     "metadata": {},
     "output_type": "execute_result"
    }
   ],
   "source": [
    "print(\"Mediana:\", )\n",
    "m1 = datos[\"Total\"].median()\n",
    "m2 = datos[\"Total.1\"].median()\n",
    "m3 = datos[\"Total.2\"].median()\n",
    "m4 = datos[\"Total.3\"].median()\n",
    "print( \"la Mediana  Total del dia 0 : \", m1)\n",
    "print( \"la Mediana   Total del dia 1 : \", m2)\n",
    "print( \"la Mediana   Total del dia 2: \", m3)\n",
    "print( \"la Mediana   Total del dia 3: \", m4)\n",
    "print(\"DIRECTAMENTE DEL DATAFRAME \")\n",
    "print()\n",
    "datos.median()"
   ]
  },
  {
   "cell_type": "code",
   "execution_count": 29,
   "metadata": {},
   "outputs": [
    {
     "name": "stdout",
     "output_type": "stream",
     "text": [
      "Moda:\n",
      "la moda  Total del dia 0 :  0    93\n",
      "dtype: int64\n",
      "la moda   Total del dia 1 :  0    91\n",
      "1    93\n",
      "2    96\n",
      "dtype: int64\n",
      "la moda   Total del dia 2:  0    92\n",
      "dtype: int64\n",
      "la moda   Total del dia 3:  0    94\n",
      "dtype: int64\n",
      "DIRECTAMENTE DEL DATAFRAME \n",
      "\n"
     ]
    },
    {
     "data": {
      "text/html": [
       "<div>\n",
       "<style scoped>\n",
       "    .dataframe tbody tr th:only-of-type {\n",
       "        vertical-align: middle;\n",
       "    }\n",
       "\n",
       "    .dataframe tbody tr th {\n",
       "        vertical-align: top;\n",
       "    }\n",
       "\n",
       "    .dataframe thead th {\n",
       "        text-align: right;\n",
       "    }\n",
       "</style>\n",
       "<table border=\"1\" class=\"dataframe\">\n",
       "  <thead>\n",
       "    <tr style=\"text-align: right;\">\n",
       "      <th></th>\n",
       "      <th>Día</th>\n",
       "      <th>Total</th>\n",
       "      <th>Día.1</th>\n",
       "      <th>Total.1</th>\n",
       "      <th>Día.2</th>\n",
       "      <th>Total.2</th>\n",
       "      <th>Día.3</th>\n",
       "      <th>Total.3</th>\n",
       "    </tr>\n",
       "  </thead>\n",
       "  <tbody>\n",
       "    <tr>\n",
       "      <th>0</th>\n",
       "      <td>1</td>\n",
       "      <td>93.0</td>\n",
       "      <td>11</td>\n",
       "      <td>91.0</td>\n",
       "      <td>21</td>\n",
       "      <td>92.0</td>\n",
       "      <td>31</td>\n",
       "      <td>94.0</td>\n",
       "    </tr>\n",
       "    <tr>\n",
       "      <th>1</th>\n",
       "      <td>2</td>\n",
       "      <td>NaN</td>\n",
       "      <td>12</td>\n",
       "      <td>93.0</td>\n",
       "      <td>22</td>\n",
       "      <td>NaN</td>\n",
       "      <td>32</td>\n",
       "      <td>NaN</td>\n",
       "    </tr>\n",
       "    <tr>\n",
       "      <th>2</th>\n",
       "      <td>3</td>\n",
       "      <td>NaN</td>\n",
       "      <td>13</td>\n",
       "      <td>96.0</td>\n",
       "      <td>23</td>\n",
       "      <td>NaN</td>\n",
       "      <td>33</td>\n",
       "      <td>NaN</td>\n",
       "    </tr>\n",
       "    <tr>\n",
       "      <th>3</th>\n",
       "      <td>4</td>\n",
       "      <td>NaN</td>\n",
       "      <td>14</td>\n",
       "      <td>NaN</td>\n",
       "      <td>24</td>\n",
       "      <td>NaN</td>\n",
       "      <td>34</td>\n",
       "      <td>NaN</td>\n",
       "    </tr>\n",
       "    <tr>\n",
       "      <th>4</th>\n",
       "      <td>5</td>\n",
       "      <td>NaN</td>\n",
       "      <td>15</td>\n",
       "      <td>NaN</td>\n",
       "      <td>25</td>\n",
       "      <td>NaN</td>\n",
       "      <td>35</td>\n",
       "      <td>NaN</td>\n",
       "    </tr>\n",
       "    <tr>\n",
       "      <th>5</th>\n",
       "      <td>6</td>\n",
       "      <td>NaN</td>\n",
       "      <td>16</td>\n",
       "      <td>NaN</td>\n",
       "      <td>26</td>\n",
       "      <td>NaN</td>\n",
       "      <td>36</td>\n",
       "      <td>NaN</td>\n",
       "    </tr>\n",
       "    <tr>\n",
       "      <th>6</th>\n",
       "      <td>7</td>\n",
       "      <td>NaN</td>\n",
       "      <td>17</td>\n",
       "      <td>NaN</td>\n",
       "      <td>27</td>\n",
       "      <td>NaN</td>\n",
       "      <td>37</td>\n",
       "      <td>NaN</td>\n",
       "    </tr>\n",
       "    <tr>\n",
       "      <th>7</th>\n",
       "      <td>8</td>\n",
       "      <td>NaN</td>\n",
       "      <td>18</td>\n",
       "      <td>NaN</td>\n",
       "      <td>28</td>\n",
       "      <td>NaN</td>\n",
       "      <td>38</td>\n",
       "      <td>NaN</td>\n",
       "    </tr>\n",
       "    <tr>\n",
       "      <th>8</th>\n",
       "      <td>9</td>\n",
       "      <td>NaN</td>\n",
       "      <td>19</td>\n",
       "      <td>NaN</td>\n",
       "      <td>29</td>\n",
       "      <td>NaN</td>\n",
       "      <td>39</td>\n",
       "      <td>NaN</td>\n",
       "    </tr>\n",
       "    <tr>\n",
       "      <th>9</th>\n",
       "      <td>10</td>\n",
       "      <td>NaN</td>\n",
       "      <td>20</td>\n",
       "      <td>NaN</td>\n",
       "      <td>30</td>\n",
       "      <td>NaN</td>\n",
       "      <td>40</td>\n",
       "      <td>NaN</td>\n",
       "    </tr>\n",
       "  </tbody>\n",
       "</table>\n",
       "</div>"
      ],
      "text/plain": [
       "   Día  Total  Día.1  Total.1  Día.2  Total.2  Día.3  Total.3\n",
       "0    1   93.0     11     91.0     21     92.0     31     94.0\n",
       "1    2    NaN     12     93.0     22      NaN     32      NaN\n",
       "2    3    NaN     13     96.0     23      NaN     33      NaN\n",
       "3    4    NaN     14      NaN     24      NaN     34      NaN\n",
       "4    5    NaN     15      NaN     25      NaN     35      NaN\n",
       "5    6    NaN     16      NaN     26      NaN     36      NaN\n",
       "6    7    NaN     17      NaN     27      NaN     37      NaN\n",
       "7    8    NaN     18      NaN     28      NaN     38      NaN\n",
       "8    9    NaN     19      NaN     29      NaN     39      NaN\n",
       "9   10    NaN     20      NaN     30      NaN     40      NaN"
      ]
     },
     "execution_count": 29,
     "metadata": {},
     "output_type": "execute_result"
    }
   ],
   "source": [
    "print(\"Moda:\", )\n",
    "mo1 = datos[\"Total\"].mode()\n",
    "mo2 = datos[\"Total.1\"].mode()\n",
    "mo3 = datos[\"Total.2\"].mode()\n",
    "mo4 = datos[\"Total.3\"].mode()\n",
    "print( \"la moda  Total del dia 0 : \", mo1)\n",
    "print( \"la moda   Total del dia 1 : \", mo2)\n",
    "print( \"la moda   Total del dia 2: \", mo3)\n",
    "print( \"la moda   Total del dia 3: \", mo4)\n",
    "print(\"DIRECTAMENTE DEL DATAFRAME \")\n",
    "print()\n",
    "datos.mode()"
   ]
  },
  {
   "cell_type": "code",
   "execution_count": 31,
   "metadata": {},
   "outputs": [
    {
     "data": {
      "text/html": [
       "<div>\n",
       "<style scoped>\n",
       "    .dataframe tbody tr th:only-of-type {\n",
       "        vertical-align: middle;\n",
       "    }\n",
       "\n",
       "    .dataframe tbody tr th {\n",
       "        vertical-align: top;\n",
       "    }\n",
       "\n",
       "    .dataframe thead th {\n",
       "        text-align: right;\n",
       "    }\n",
       "</style>\n",
       "<table border=\"1\" class=\"dataframe\">\n",
       "  <thead>\n",
       "    <tr style=\"text-align: right;\">\n",
       "      <th></th>\n",
       "      <th>Total</th>\n",
       "      <th>Total.1</th>\n",
       "      <th>Total.2</th>\n",
       "      <th>Total.3</th>\n",
       "    </tr>\n",
       "  </thead>\n",
       "  <tbody>\n",
       "    <tr>\n",
       "      <th>count</th>\n",
       "      <td>10.000000</td>\n",
       "      <td>10.000000</td>\n",
       "      <td>10.000000</td>\n",
       "      <td>10.00000</td>\n",
       "    </tr>\n",
       "    <tr>\n",
       "      <th>mean</th>\n",
       "      <td>95.000000</td>\n",
       "      <td>94.700000</td>\n",
       "      <td>94.800000</td>\n",
       "      <td>95.10000</td>\n",
       "    </tr>\n",
       "    <tr>\n",
       "      <th>std</th>\n",
       "      <td>3.559026</td>\n",
       "      <td>3.591657</td>\n",
       "      <td>2.936362</td>\n",
       "      <td>2.84605</td>\n",
       "    </tr>\n",
       "    <tr>\n",
       "      <th>min</th>\n",
       "      <td>90.000000</td>\n",
       "      <td>90.000000</td>\n",
       "      <td>91.000000</td>\n",
       "      <td>91.00000</td>\n",
       "    </tr>\n",
       "    <tr>\n",
       "      <th>25%</th>\n",
       "      <td>93.000000</td>\n",
       "      <td>91.500000</td>\n",
       "      <td>92.000000</td>\n",
       "      <td>93.25000</td>\n",
       "    </tr>\n",
       "    <tr>\n",
       "      <th>50%</th>\n",
       "      <td>93.500000</td>\n",
       "      <td>94.500000</td>\n",
       "      <td>95.000000</td>\n",
       "      <td>94.00000</td>\n",
       "    </tr>\n",
       "    <tr>\n",
       "      <th>75%</th>\n",
       "      <td>98.250000</td>\n",
       "      <td>97.500000</td>\n",
       "      <td>97.000000</td>\n",
       "      <td>96.75000</td>\n",
       "    </tr>\n",
       "    <tr>\n",
       "      <th>max</th>\n",
       "      <td>100.000000</td>\n",
       "      <td>100.000000</td>\n",
       "      <td>99.000000</td>\n",
       "      <td>100.00000</td>\n",
       "    </tr>\n",
       "  </tbody>\n",
       "</table>\n",
       "</div>"
      ],
      "text/plain": [
       "            Total     Total.1    Total.2    Total.3\n",
       "count   10.000000   10.000000  10.000000   10.00000\n",
       "mean    95.000000   94.700000  94.800000   95.10000\n",
       "std      3.559026    3.591657   2.936362    2.84605\n",
       "min     90.000000   90.000000  91.000000   91.00000\n",
       "25%     93.000000   91.500000  92.000000   93.25000\n",
       "50%     93.500000   94.500000  95.000000   94.00000\n",
       "75%     98.250000   97.500000  97.000000   96.75000\n",
       "max    100.000000  100.000000  99.000000  100.00000"
      ]
     },
     "execution_count": 31,
     "metadata": {},
     "output_type": "execute_result"
    }
   ],
   "source": [
    "datos[['Total','Total.1','Total.2','Total.3']].describe()"
   ]
  },
  {
   "cell_type": "markdown",
   "metadata": {},
   "source": [
    " Un modelo de crecimiento poblacional está dado por: n = 5t + 2e0.1t, en donde n\n",
    "es el número de habitantes, t es tiempo en años. Se desea conocer el número de habitantes\n",
    "que habría en los años 5, 10 y 20. Obtenga los resultados ejecutando tres veces el programa.\n",
    "Resolver el modelo y presentarlos los datos junto a los gráficos"
   ]
  },
  {
   "cell_type": "code",
   "execution_count": 36,
   "metadata": {},
   "outputs": [
    {
     "name": "stdin",
     "output_type": "stream",
     "text": [
      "ingrese la cantidad de habitantes: 2000\n"
     ]
    },
    {
     "name": "stdout",
     "output_type": "stream",
     "text": [
      "respuesta: 10000\n"
     ]
    }
   ],
   "source": [
    "n=int(input('ingrese la cantidad de habitantes:'))\n",
    "\n",
    "t1=n*5\n",
    "\n",
    "print('respuesta:',t1)\n"
   ]
  },
  {
   "cell_type": "code",
   "execution_count": 37,
   "metadata": {},
   "outputs": [
    {
     "name": "stdin",
     "output_type": "stream",
     "text": [
      "ingrese la cantidad de habitantes: 2000\n"
     ]
    },
    {
     "name": "stdout",
     "output_type": "stream",
     "text": [
      "respuesta: 20000\n"
     ]
    }
   ],
   "source": [
    "n=int(input('ingrese la cantidad de habitantes:'))\n",
    "\n",
    "t2=n*10\n",
    "\n",
    "print('respuesta:',t2)\n"
   ]
  },
  {
   "cell_type": "code",
   "execution_count": 38,
   "metadata": {},
   "outputs": [
    {
     "name": "stdin",
     "output_type": "stream",
     "text": [
      "ingrese la cantidad de habitantes: 20000\n"
     ]
    },
    {
     "name": "stdout",
     "output_type": "stream",
     "text": [
      "respuesta: 400000\n"
     ]
    }
   ],
   "source": [
    "n=int(input('ingrese la cantidad de habitantes:'))\n",
    "\n",
    "t3=n*20\n",
    "\n",
    "print('respuesta:',t3)\n"
   ]
  },
  {
   "cell_type": "code",
   "execution_count": null,
   "metadata": {},
   "outputs": [],
   "source": []
  }
 ],
 "metadata": {
  "kernelspec": {
   "display_name": "Python 3",
   "language": "python",
   "name": "python3"
  },
  "language_info": {
   "codemirror_mode": {
    "name": "ipython",
    "version": 3
   },
   "file_extension": ".py",
   "mimetype": "text/x-python",
   "name": "python",
   "nbconvert_exporter": "python",
   "pygments_lexer": "ipython3",
   "version": "3.7.6"
  }
 },
 "nbformat": 4,
 "nbformat_minor": 4
}
