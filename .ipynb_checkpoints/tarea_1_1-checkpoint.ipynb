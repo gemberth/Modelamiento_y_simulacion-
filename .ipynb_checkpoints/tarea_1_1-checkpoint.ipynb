{
 "cells": [
  {
   "cell_type": "markdown",
   "metadata": {},
   "source": [
    "# Nombre : *Gemberth Josue Delgado Delgado*\n",
    "## Curso: 6 B\n",
    "---\n",
    "___\n",
    "### Acontinuacion se desarrollara una actividad en la cual pondremos en practica los conocimientos apquiridos en clase \n"
   ]
  },
  {
   "cell_type": "code",
   "execution_count": 20,
   "metadata": {},
   "outputs": [
    {
     "name": "stdout",
     "output_type": "stream",
     "text": [
      "Moda:\n",
      "la Moda de porciones de cervesas:  0      1\n",
      "1      2\n",
      "2      4\n",
      "3      5\n",
      "4      6\n",
      "5      8\n",
      "6      9\n",
      "7     10\n",
      "8     11\n",
      "9     12\n",
      "10    13\n",
      "11    15\n",
      "12    16\n",
      "13    17\n",
      "14    18\n",
      "15    19\n",
      "16    20\n",
      "17    21\n",
      "18    22\n",
      "19    23\n",
      "20    24\n",
      "21    25\n",
      "22    26\n",
      "23    27\n",
      "24    28\n",
      "25    29\n",
      "26    30\n",
      "27    31\n",
      "28    32\n",
      "29    33\n",
      "30    34\n",
      "31    35\n",
      "32    36\n",
      "33    37\n",
      "34    38\n",
      "35    39\n",
      "36    40\n",
      "37    41\n",
      "38    42\n",
      "39    44\n",
      "40    45\n",
      "41    46\n",
      "42    47\n",
      "43    48\n",
      "44    49\n",
      "45    50\n",
      "46    51\n",
      "47    53\n",
      "48    54\n",
      "49    55\n",
      "50    56\n",
      "51    72\n",
      "52    78\n",
      "dtype: int64\n"
     ]
    },
    {
     "data": {
      "text/html": [
       "<div>\n",
       "<style scoped>\n",
       "    .dataframe tbody tr th:only-of-type {\n",
       "        vertical-align: middle;\n",
       "    }\n",
       "\n",
       "    .dataframe tbody tr th {\n",
       "        vertical-align: top;\n",
       "    }\n",
       "\n",
       "    .dataframe thead th {\n",
       "        text-align: right;\n",
       "    }\n",
       "</style>\n",
       "<table border=\"1\" class=\"dataframe\">\n",
       "  <thead>\n",
       "    <tr style=\"text-align: right;\">\n",
       "      <th></th>\n",
       "      <th>0</th>\n",
       "    </tr>\n",
       "  </thead>\n",
       "  <tbody>\n",
       "    <tr>\n",
       "      <th>0</th>\n",
       "      <td>1</td>\n",
       "    </tr>\n",
       "    <tr>\n",
       "      <th>1</th>\n",
       "      <td>2</td>\n",
       "    </tr>\n",
       "    <tr>\n",
       "      <th>2</th>\n",
       "      <td>4</td>\n",
       "    </tr>\n",
       "    <tr>\n",
       "      <th>3</th>\n",
       "      <td>5</td>\n",
       "    </tr>\n",
       "    <tr>\n",
       "      <th>4</th>\n",
       "      <td>6</td>\n",
       "    </tr>\n",
       "    <tr>\n",
       "      <th>5</th>\n",
       "      <td>8</td>\n",
       "    </tr>\n",
       "    <tr>\n",
       "      <th>6</th>\n",
       "      <td>9</td>\n",
       "    </tr>\n",
       "    <tr>\n",
       "      <th>7</th>\n",
       "      <td>10</td>\n",
       "    </tr>\n",
       "    <tr>\n",
       "      <th>8</th>\n",
       "      <td>11</td>\n",
       "    </tr>\n",
       "    <tr>\n",
       "      <th>9</th>\n",
       "      <td>12</td>\n",
       "    </tr>\n",
       "    <tr>\n",
       "      <th>10</th>\n",
       "      <td>13</td>\n",
       "    </tr>\n",
       "    <tr>\n",
       "      <th>11</th>\n",
       "      <td>15</td>\n",
       "    </tr>\n",
       "    <tr>\n",
       "      <th>12</th>\n",
       "      <td>16</td>\n",
       "    </tr>\n",
       "    <tr>\n",
       "      <th>13</th>\n",
       "      <td>17</td>\n",
       "    </tr>\n",
       "    <tr>\n",
       "      <th>14</th>\n",
       "      <td>18</td>\n",
       "    </tr>\n",
       "    <tr>\n",
       "      <th>15</th>\n",
       "      <td>19</td>\n",
       "    </tr>\n",
       "    <tr>\n",
       "      <th>16</th>\n",
       "      <td>20</td>\n",
       "    </tr>\n",
       "    <tr>\n",
       "      <th>17</th>\n",
       "      <td>21</td>\n",
       "    </tr>\n",
       "    <tr>\n",
       "      <th>18</th>\n",
       "      <td>22</td>\n",
       "    </tr>\n",
       "    <tr>\n",
       "      <th>19</th>\n",
       "      <td>23</td>\n",
       "    </tr>\n",
       "    <tr>\n",
       "      <th>20</th>\n",
       "      <td>24</td>\n",
       "    </tr>\n",
       "    <tr>\n",
       "      <th>21</th>\n",
       "      <td>25</td>\n",
       "    </tr>\n",
       "    <tr>\n",
       "      <th>22</th>\n",
       "      <td>26</td>\n",
       "    </tr>\n",
       "    <tr>\n",
       "      <th>23</th>\n",
       "      <td>27</td>\n",
       "    </tr>\n",
       "    <tr>\n",
       "      <th>24</th>\n",
       "      <td>28</td>\n",
       "    </tr>\n",
       "    <tr>\n",
       "      <th>25</th>\n",
       "      <td>29</td>\n",
       "    </tr>\n",
       "    <tr>\n",
       "      <th>26</th>\n",
       "      <td>30</td>\n",
       "    </tr>\n",
       "    <tr>\n",
       "      <th>27</th>\n",
       "      <td>31</td>\n",
       "    </tr>\n",
       "    <tr>\n",
       "      <th>28</th>\n",
       "      <td>32</td>\n",
       "    </tr>\n",
       "    <tr>\n",
       "      <th>29</th>\n",
       "      <td>33</td>\n",
       "    </tr>\n",
       "    <tr>\n",
       "      <th>30</th>\n",
       "      <td>34</td>\n",
       "    </tr>\n",
       "    <tr>\n",
       "      <th>31</th>\n",
       "      <td>35</td>\n",
       "    </tr>\n",
       "    <tr>\n",
       "      <th>32</th>\n",
       "      <td>36</td>\n",
       "    </tr>\n",
       "    <tr>\n",
       "      <th>33</th>\n",
       "      <td>37</td>\n",
       "    </tr>\n",
       "    <tr>\n",
       "      <th>34</th>\n",
       "      <td>38</td>\n",
       "    </tr>\n",
       "    <tr>\n",
       "      <th>35</th>\n",
       "      <td>39</td>\n",
       "    </tr>\n",
       "    <tr>\n",
       "      <th>36</th>\n",
       "      <td>40</td>\n",
       "    </tr>\n",
       "    <tr>\n",
       "      <th>37</th>\n",
       "      <td>41</td>\n",
       "    </tr>\n",
       "    <tr>\n",
       "      <th>38</th>\n",
       "      <td>42</td>\n",
       "    </tr>\n",
       "    <tr>\n",
       "      <th>39</th>\n",
       "      <td>44</td>\n",
       "    </tr>\n",
       "    <tr>\n",
       "      <th>40</th>\n",
       "      <td>45</td>\n",
       "    </tr>\n",
       "    <tr>\n",
       "      <th>41</th>\n",
       "      <td>46</td>\n",
       "    </tr>\n",
       "    <tr>\n",
       "      <th>42</th>\n",
       "      <td>47</td>\n",
       "    </tr>\n",
       "    <tr>\n",
       "      <th>43</th>\n",
       "      <td>48</td>\n",
       "    </tr>\n",
       "    <tr>\n",
       "      <th>44</th>\n",
       "      <td>49</td>\n",
       "    </tr>\n",
       "    <tr>\n",
       "      <th>45</th>\n",
       "      <td>50</td>\n",
       "    </tr>\n",
       "    <tr>\n",
       "      <th>46</th>\n",
       "      <td>51</td>\n",
       "    </tr>\n",
       "    <tr>\n",
       "      <th>47</th>\n",
       "      <td>53</td>\n",
       "    </tr>\n",
       "    <tr>\n",
       "      <th>48</th>\n",
       "      <td>54</td>\n",
       "    </tr>\n",
       "    <tr>\n",
       "      <th>49</th>\n",
       "      <td>55</td>\n",
       "    </tr>\n",
       "    <tr>\n",
       "      <th>50</th>\n",
       "      <td>56</td>\n",
       "    </tr>\n",
       "    <tr>\n",
       "      <th>51</th>\n",
       "      <td>72</td>\n",
       "    </tr>\n",
       "    <tr>\n",
       "      <th>52</th>\n",
       "      <td>78</td>\n",
       "    </tr>\n",
       "  </tbody>\n",
       "</table>\n",
       "</div>"
      ],
      "text/plain": [
       "     0\n",
       "0    1\n",
       "1    2\n",
       "2    4\n",
       "3    5\n",
       "4    6\n",
       "5    8\n",
       "6    9\n",
       "7   10\n",
       "8   11\n",
       "9   12\n",
       "10  13\n",
       "11  15\n",
       "12  16\n",
       "13  17\n",
       "14  18\n",
       "15  19\n",
       "16  20\n",
       "17  21\n",
       "18  22\n",
       "19  23\n",
       "20  24\n",
       "21  25\n",
       "22  26\n",
       "23  27\n",
       "24  28\n",
       "25  29\n",
       "26  30\n",
       "27  31\n",
       "28  32\n",
       "29  33\n",
       "30  34\n",
       "31  35\n",
       "32  36\n",
       "33  37\n",
       "34  38\n",
       "35  39\n",
       "36  40\n",
       "37  41\n",
       "38  42\n",
       "39  44\n",
       "40  45\n",
       "41  46\n",
       "42  47\n",
       "43  48\n",
       "44  49\n",
       "45  50\n",
       "46  51\n",
       "47  53\n",
       "48  54\n",
       "49  55\n",
       "50  56\n",
       "51  72\n",
       "52  78"
      ]
     },
     "execution_count": 20,
     "metadata": {},
     "output_type": "execute_result"
    }
   ],
   "source": [
    "#importamos las librerias a utilizar \n",
    "import pandas as pd\n",
    "import matplotlib.pyplot as plt\n",
    "import numpy as np\n",
    "# para esto imprortamos un data set de formato json \n",
    "datos= pd.read_csv('C:/Users/USUARIO/Desktop/python/Simulación_modelamiento/payroll-states.csv')\n",
    "datos\n",
    "# ahora mediante el metodo moda() sacamos la moda \n",
    "print(\"Moda:\")\n",
    "mo1 = datos[\"state_code\"].mode()\n",
    "\n",
    "\n",
    "print( \"la Moda de porciones de cervesas: \", mo1)\n",
    "\n",
    "pd.DataFrame(mo1)\n"
   ]
  },
  {
   "cell_type": "markdown",
   "metadata": {},
   "source": [
    "#### Preparamos el Gráfico\n",
    "Utilizamos la biblioteca matplotlib.pyplot.hist(x,bins,Range=None,Color=None....) donde x son los datos que vamos a\n",
    "graficar, bins=8 el número de clases, y ademas el color=blue, en el gráfico tambien incorporamos la media xmean() , la\n",
    "mediana x.median(), y la moda x.mode()[0], utilizando plt.axvline\n"
   ]
  },
  {
   "cell_type": "code",
   "execution_count": 9,
   "metadata": {},
   "outputs": [
    {
     "data": {
      "image/png": "[encoded data removed]",
      "text/plain": [
       "<Figure size 720x360 with 1 Axes>"
      ]
     },
     "metadata": {
      "needs_background": "light"
     },
     "output_type": "display_data"
    }
   ],
   "source": [
    "\n",
    "x=datos[\"total_litres_of_pure_alcohol\"]\n",
    "plt.figure(figsize=(10,5))\n",
    "plt.hist(x,bins=8,color='blue')\n",
    "plt.axvline(x.mean(),color='red',label='Media')\n",
    "plt.axvline(x.median(),color='yellow',label='Mediana')\n",
    "plt.axvline(x.mode()[0],color='green',label='Moda')\n",
    "plt.xlabel('Litros totales de alcohol consumido')\n",
    "plt.ylabel('Frecuencia')\n",
    "plt.legend()\n",
    "plt.show()\n",
    "\n",
    "\n",
    "\n"
   ]
  },
  {
   "cell_type": "code",
   "execution_count": 10,
   "metadata": {},
   "outputs": [
    {
     "data": {
      "image/png": "[encoded data removed]",
      "text/plain": [
       "<Figure size 720x360 with 1 Axes>"
      ]
     },
     "metadata": {
      "needs_background": "light"
     },
     "output_type": "display_data"
    }
   ],
   "source": [
    "# Preparando para el grafico PARA LA COLUMNA de consumo de vino \n",
    "# Aqui cambiamos el color del histograma, y para las clases dejamos que matplotlib lo\n",
    "\n",
    "x=datos[\"wine_servings\"]\n",
    "plt.figure(figsize=(10,5))\n",
    "plt.hist(x,bins=None,color='grey')\n",
    "plt.axvline(x.mean(),color='red',label='Media')\n",
    "plt.axvline(x.median(),color='yellow',label='Mediana')\n",
    "plt.axvline(x.mode()[0],color='green',label='Moda')\n",
    "plt.xlabel('Total de consumo de vino por paises ')\n",
    "plt.ylabel('Frecuencia')\n",
    "plt.legend()\n",
    "plt.show()\n"
   ]
  },
  {
   "cell_type": "markdown",
   "metadata": {},
   "source": [
    "### MEDIDAS DE TENDENCIA CENTRAL\n",
    "#### MEDIA, MEDIANA, MODA\n",
    "##### calculo de la media\n",
    "Es una medida de uso común, en una muestra de n datos, la media muestra el promedio aritmético simple de los datos\n",
    "utilizamos mean() para su calculo"
   ]
  },
  {
   "cell_type": "code",
   "execution_count": 11,
   "metadata": {},
   "outputs": [
    {
     "name": "stdout",
     "output_type": "stream",
     "text": [
      "Media:\n",
      "la Media de porciones de cervesas :  106.16062176165804\n",
      "la Media de porciones de bebidas Destiladas :  80.99481865284974\n",
      "la Media de porsiones de vino :  49.45077720207254\n",
      "DIRECTAMENTE DEL DATAFRAME \n",
      "\n"
     ]
    },
    {
     "data": {
      "text/plain": [
       "beer_servings                   106.160622\n",
       "spirit_servings                  80.994819\n",
       "wine_servings                    49.450777\n",
       "total_litres_of_pure_alcohol      4.717098\n",
       "dtype: float64"
      ]
     },
     "execution_count": 11,
     "metadata": {},
     "output_type": "execute_result"
    }
   ],
   "source": [
    "# enviando las medias a t1, t2, t3 para su utilización\n",
    "# y con el metodo .mean() sacamos la media \n",
    "print(\"Media:\", )\n",
    "t1 = datos[\"beer_servings\"].mean()\n",
    "t2= datos[\"spirit_servings\"].mean()\n",
    "t3= datos[\"wine_servings\"].mean()\n",
    "print( \"la Media de porciones de cervesas : \", t1)\n",
    "print( \"la Media de porciones de bebidas Destiladas : \", t2)\n",
    "print( \"la Media de porsiones de vino : \", t3)\n",
    "print(\"DIRECTAMENTE DEL DATAFRAME \")\n",
    "print()\n",
    "datos.mean()"
   ]
  },
  {
   "cell_type": "markdown",
   "metadata": {},
   "source": [
    "### Calculo de la media \n",
    "la mediana es el valor ubicado en el centro de los datos ordenados"
   ]
  },
  {
   "cell_type": "code",
   "execution_count": 12,
   "metadata": {},
   "outputs": [
    {
     "name": "stdout",
     "output_type": "stream",
     "text": [
      "Mediana:\n",
      "la Mediana de porciones de cervesas:  76.0\n",
      "la Mediana de porciones de bebidas Destiladas :  56.0\n",
      "la Mediana de porsiones de vino :  8.0\n",
      "DIRECTAMENTE DEL DATAFRAME \n",
      "\n"
     ]
    },
    {
     "data": {
      "text/plain": [
       "beer_servings                   76.0\n",
       "spirit_servings                 56.0\n",
       "wine_servings                    8.0\n",
       "total_litres_of_pure_alcohol     4.2\n",
       "dtype: float64"
      ]
     },
     "execution_count": 12,
     "metadata": {},
     "output_type": "execute_result"
    }
   ],
   "source": [
    "# enviando las medias a m1, m2, m3 para su utilización\n",
    "print(\"Mediana:\", )\n",
    "#indicamos la columna que requerimos \n",
    "m1 = datos[\"beer_servings\"].median()\n",
    "m2= datos[\"spirit_servings\"].median()\n",
    "m3= datos[\"wine_servings\"].median()\n",
    "\n",
    "print( \"la Mediana de porciones de cervesas: \", m1)\n",
    "print( \"la Mediana de porciones de bebidas Destiladas : \", m2)\n",
    "print( \"la Mediana de porsiones de vino : \", m3)\n",
    "print(\"DIRECTAMENTE DEL DATAFRAME \")\n",
    "print()\n",
    "datos.median()\n",
    "\n"
   ]
  },
  {
   "cell_type": "markdown",
   "metadata": {},
   "source": [
    "### Calculo de la moda\n",
    "La moda es el dato que ocurre con más frecuencia en la muestra, puede existir o no, o también puede existir más de una\n",
    "moda"
   ]
  },
  {
   "cell_type": "code",
   "execution_count": 6,
   "metadata": {},
   "outputs": [
    {
     "name": "stdout",
     "output_type": "stream",
     "text": [
      "Moda:\n",
      "la Moda de porciones de cervesas:  0    0\n",
      "dtype: int64\n",
      "la Moda de porciones de bebidas Destiladas :  0    0\n",
      "dtype: int64\n",
      "la Moda de porsiones de vino :  0    0\n",
      "dtype: int64\n",
      "la Moda de del total de consumo de alcohol :  0    0.0\n",
      "dtype: float64\n"
     ]
    },
    {
     "data": {
      "text/html": [
       "<div>\n",
       "<style scoped>\n",
       "    .dataframe tbody tr th:only-of-type {\n",
       "        vertical-align: middle;\n",
       "    }\n",
       "\n",
       "    .dataframe tbody tr th {\n",
       "        vertical-align: top;\n",
       "    }\n",
       "\n",
       "    .dataframe thead th {\n",
       "        text-align: right;\n",
       "    }\n",
       "</style>\n",
       "<table border=\"1\" class=\"dataframe\">\n",
       "  <thead>\n",
       "    <tr style=\"text-align: right;\">\n",
       "      <th></th>\n",
       "      <th>0</th>\n",
       "    </tr>\n",
       "  </thead>\n",
       "  <tbody>\n",
       "    <tr>\n",
       "      <th>0</th>\n",
       "      <td>0.0</td>\n",
       "    </tr>\n",
       "  </tbody>\n",
       "</table>\n",
       "</div>"
      ],
      "text/plain": [
       "     0\n",
       "0  0.0"
      ]
     },
     "execution_count": 6,
     "metadata": {},
     "output_type": "execute_result"
    }
   ],
   "source": [
    "# ahora mediante el metodo moda() sacamos la moda \n",
    "print(\"Moda:\")\n",
    "mo1 = datos[\"beer_servings\"].mode()\n",
    "mo2= datos[\"spirit_servings\"].mode()\n",
    "mo3= datos[\"wine_servings\"].mode()\n",
    "mo4= datos[\"total_litres_of_pure_alcohol\"].mode()\n",
    "\n",
    "print( \"la Moda de porciones de cervesas: \", mo1)\n",
    "print( \"la Moda de porciones de bebidas Destiladas : \", mo2)\n",
    "print( \"la Moda de porsiones de vino : \", mo3)\n",
    "print( \"la Moda de del total de consumo de alcohol : \", mo4)\n",
    "pd.DataFrame(mo1,mo2,mo3,mo4)"
   ]
  },
  {
   "cell_type": "code",
   "execution_count": 7,
   "metadata": {},
   "outputs": [
    {
     "ename": "SyntaxError",
     "evalue": "invalid syntax (<ipython-input-7-cbb9c3c37194>, line 4)",
     "output_type": "error",
     "traceback": [
      "\u001b[1;36m  File \u001b[1;32m\"<ipython-input-7-cbb9c3c37194>\"\u001b[1;36m, line \u001b[1;32m4\u001b[0m\n\u001b[1;33m    o, valor máximo, el 1er cuartil, 2do Cuartil, 3er Cuartil\u001b[0m\n\u001b[1;37m                  ^\u001b[0m\n\u001b[1;31mSyntaxError\u001b[0m\u001b[1;31m:\u001b[0m invalid syntax\n"
     ]
    }
   ],
   "source": [
    "# Tomamos los datos de las columnas\n",
    "datos[['TOTAL_PACIENTES','ATENDIDOS','NO_ATENDIDOS']].describe()\n",
    "# describe(), nos presenta directamente la media, desviación standar, el valor mínim\n",
    "o, valor máximo, el 1er cuartil, 2do Cuartil, 3er Cuartil\n"
   ]
  },
  {
   "cell_type": "code",
   "execution_count": null,
   "metadata": {},
   "outputs": [],
   "source": [
    "# seleccionamos los datos del mes de abril 30 registros para calcular estadisticos de\n",
    "l mes de abril\n",
    "df_1 = datos[:30]\n",
    "print (\"Estadisticos del mes de abril\")\n",
    "print (\"-----------------------------\")\n",
    "df_1[['TOTAL_PACIENTES','ATENDIDOS','NO_ATENDIDOS']].describe()"
   ]
  },
  {
   "cell_type": "code",
   "execution_count": null,
   "metadata": {},
   "outputs": [],
   "source": [
    "df_2 = datos[30:61]\n",
    "df_2\n"
   ]
  },
  {
   "cell_type": "code",
   "execution_count": null,
   "metadata": {},
   "outputs": [],
   "source": [
    "print (\"Estadisticos del mes de Mayo \")\n",
    "print (\"-----------------------------\")\n",
    "df_2[['TOTAL_PACIENTES','ATENDIDOS','NO_ATENDIDOS']].describe()"
   ]
  },
  {
   "cell_type": "code",
   "execution_count": null,
   "metadata": {},
   "outputs": [],
   "source": [
    "#x = np.arange(61)\n",
    "x = datos[\"DIASEMANA\"]\n",
    "t1 = datos[\"TOTAL_PACIENTES\"]\n",
    "t2 = datos[\"ATENDIDOS\"]\n",
    "t3 = datos[\"NO_ATENDIDOS\"]\n",
    "plt.figure(figsize=(12,8))\n",
    "plt.plot(x,t1,x,t2,x,t3,marker='o')\n",
    "plt.xlabel('Dias de Observación')\n",
    "plt.ylabel('Cantidad de Pacientes')\n",
    "plt.legend(('TOTAL PACIENTES','ATENDIDOS', 'NO ATENDIDOS'), prop = {'size':10},loc='u\n",
    "pper right')\n"
   ]
  },
  {
   "cell_type": "code",
   "execution_count": null,
   "metadata": {},
   "outputs": [],
   "source": [
    "x = range(61)\n",
    "plt.figure(figsize=(15,15))\n",
    "plt.subplot(131)\n",
    "t1 = datos[\"TOTAL_PACIENTES\"]\n",
    "p1, = plt.plot(x,t1,'r-')\n",
    "plt.ylabel('PACIENTES')\n",
    "plt.title(' PACIENTES ATENDIDOS')\n",
    "plt.subplot(132)\n",
    "t2 = datos[\"ATENDIDOS\"]\n",
    "p1, = plt.plot(x,t2,'b-')\n",
    "plt.title(' ATENDIDOS')\n",
    "plt.subplot(133)\n",
    "t3 = datos[\"NO_ATENDIDOS\"]\n",
    "p1, = plt.plot(x,t3,'g-')\n",
    "plt.title(' NO ATENDIDOS')\n"
   ]
  },
  {
   "cell_type": "code",
   "execution_count": null,
   "metadata": {},
   "outputs": [],
   "source": [
    "# OBTENER LOS DATOS UNICOS DE LA TABLA\n",
    "lis = datos[\"TOTAL_PACIENTES\"].unique()\n",
    "lis\n",
    "dfclases=pd.DataFrame(lis,columns=[\"TOTAL_PACIENTES\"])\n",
    "dfclases"
   ]
  },
  {
   "cell_type": "code",
   "execution_count": null,
   "metadata": {},
   "outputs": [],
   "source": [
    "#TABLA DE FRECUENCIAS ABSOLUTAS\n",
    "# OBTENER FRECUENCIAS ABSOLUTAS DE CADA CLASE\n",
    "datafi=pd.crosstab(index=datos[\"TOTAL_PACIENTES\"], columns = \"fi\")\n",
    "# Creamos una lista con los valores de las frecuencias\n",
    "li = datafi.values\n",
    "# agregamos una columna al dataframe\n",
    "dfclases[\"fi\"] = li\n",
    "#observamos dfclase\n",
    "dfclases"
   ]
  },
  {
   "cell_type": "code",
   "execution_count": null,
   "metadata": {},
   "outputs": [],
   "source": [
    "total\n"
   ]
  },
  {
   "cell_type": "code",
   "execution_count": null,
   "metadata": {},
   "outputs": [],
   "source": [
    " # Columna de Frecuencia relativa\n",
    "total = dfclases.sum(axis=0)\n",
    "datahi = dfclases[\"fi\"]/total[\"fi\"] # aqui calculamos la frecuencia\n",
    "datahi.values\n",
    "# agregamos nueva columna de frecuencia relativa\n",
    "dfclases[\"hi\"] = datahi\n",
    "dfclases"
   ]
  },
  {
   "cell_type": "code",
   "execution_count": null,
   "metadata": {},
   "outputs": [],
   "source": [
    "total1 = dfclases.sum(axis=0) # totales \n"
   ]
  },
  {
   "cell_type": "code",
   "execution_count": null,
   "metadata": {},
   "outputs": [],
   "source": [
    " # la suma de las frecuencias Relativas nos da 1\n",
    "# aqui vamos a calcular la frecuencia absoluta\n",
    "FA = dfclases[\"fi\"].values\n",
    "# obtenemos FA\n",
    "a=[]\n",
    "b=0\n",
    "for c in FA:\n",
    " b = c + b\n",
    " a.append(b)\n",
    "dfclases[\"FA\"] = a\n",
    "HI = dfclases[\"hi\"].values\n",
    "# obtenemos HI\n",
    "a=[]\n",
    "b=0\n",
    "for c in HI:\n",
    " b = c + b\n",
    " a.append(b)\n",
    "dfclases[\"HI\"] = a\n",
    "dfclases"
   ]
  },
  {
   "cell_type": "code",
   "execution_count": null,
   "metadata": {},
   "outputs": [],
   "source": [
    "total1 = dfclases.sum(axis=0)\n"
   ]
  },
  {
   "cell_type": "code",
   "execution_count": null,
   "metadata": {},
   "outputs": [],
   "source": [
    ": datos.info()\n"
   ]
  },
  {
   "cell_type": "code",
   "execution_count": null,
   "metadata": {},
   "outputs": [],
   "source": [
    " datos[\"ATENDIDOS\"]+100"
   ]
  },
  {
   "cell_type": "code",
   "execution_count": null,
   "metadata": {},
   "outputs": [],
   "source": []
  }
 ],
 "metadata": {
  "kernelspec": {
   "display_name": "Python 3",
   "language": "python",
   "name": "python3"
  },
  "language_info": {
   "codemirror_mode": {
    "name": "ipython",
    "version": 3
   },
   "file_extension": ".py",
   "mimetype": "text/x-python",
   "name": "python",
   "nbconvert_exporter": "python",
   "pygments_lexer": "ipython3",
   "version": "3.7.6"
  }
 },
 "nbformat": 4,
 "nbformat_minor": 4
}
